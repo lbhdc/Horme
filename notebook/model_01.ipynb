{
 "cells": [
  {
   "cell_type": "code",
   "execution_count": 1,
   "metadata": {},
   "outputs": [],
   "source": [
    "import os\n",
    "import pandas as pd\n",
    "from sklearn.model_selection import train_test_split\n",
    "from tpot import TPOTClassifier"
   ]
  },
  {
   "cell_type": "markdown",
   "metadata": {},
   "source": [
    "# About\n",
    "\n",
    "This notebook looks at tpot, an automated machine learning system. Tpot uses an evolutionary algorithm to perform model selection and hyperparameter tuning."
   ]
  },
  {
   "cell_type": "markdown",
   "metadata": {},
   "source": [
    "# Dataset\n",
    "\n",
    "Source: [Heterogeneity Activity Recognition Data Set](https://archive.ics.uci.edu/ml/datasets/Heterogeneity+Activity+Recognition)\n",
    "\n",
    "The dataset and accompanying research can befound at UCIs dataset repository. The copy used in this notebook was transformed from the original dataset in the `process_datasets.ipynb`"
   ]
  },
  {
   "cell_type": "code",
   "execution_count": 2,
   "metadata": {},
   "outputs": [],
   "source": [
    "data_directory = os.environ[\"DATASET\"] + \"/heterogeneity_activity_recognition\"\n",
    "data_path = f\"{data_directory}/processed/phones.zip\""
   ]
  },
  {
   "cell_type": "code",
   "execution_count": 3,
   "metadata": {},
   "outputs": [
    {
     "name": "stdout",
     "output_type": "stream",
     "text": [
      "CPU times: user 13 s, sys: 435 ms, total: 13.4 s\n",
      "Wall time: 13.4 s\n"
     ]
    },
    {
     "data": {
      "text/html": [
       "<div>\n",
       "<style scoped>\n",
       "    .dataframe tbody tr th:only-of-type {\n",
       "        vertical-align: middle;\n",
       "    }\n",
       "\n",
       "    .dataframe tbody tr th {\n",
       "        vertical-align: top;\n",
       "    }\n",
       "\n",
       "    .dataframe thead th {\n",
       "        text-align: right;\n",
       "    }\n",
       "</style>\n",
       "<table border=\"1\" class=\"dataframe\">\n",
       "  <thead>\n",
       "    <tr style=\"text-align: right;\">\n",
       "      <th></th>\n",
       "      <th>arrival_time</th>\n",
       "      <th>target</th>\n",
       "      <th>user</th>\n",
       "      <th>x_accel</th>\n",
       "      <th>x_gyro</th>\n",
       "      <th>y_accel</th>\n",
       "      <th>y_gyro</th>\n",
       "      <th>z_accel</th>\n",
       "      <th>z_gyro</th>\n",
       "    </tr>\n",
       "  </thead>\n",
       "  <tbody>\n",
       "    <tr>\n",
       "      <th>0</th>\n",
       "      <td>1424779162870</td>\n",
       "      <td>stand</td>\n",
       "      <td>f</td>\n",
       "      <td>-1.618774</td>\n",
       "      <td>0.009163</td>\n",
       "      <td>0.029892</td>\n",
       "      <td>-0.01741</td>\n",
       "      <td>10.02536</td>\n",
       "      <td>0.009163</td>\n",
       "    </tr>\n",
       "  </tbody>\n",
       "</table>\n",
       "</div>"
      ],
      "text/plain": [
       "    arrival_time target user   x_accel    x_gyro   y_accel   y_gyro   z_accel  \\\n",
       "0  1424779162870  stand    f -1.618774  0.009163  0.029892 -0.01741  10.02536   \n",
       "\n",
       "     z_gyro  \n",
       "0  0.009163  "
      ]
     },
     "execution_count": 3,
     "metadata": {},
     "output_type": "execute_result"
    }
   ],
   "source": [
    "%time df = pd.read_csv(data_path); df.head(1)"
   ]
  },
  {
   "cell_type": "markdown",
   "metadata": {},
   "source": [
    "# Factorize Categorical Data\n",
    "\n",
    "Tpot expects only numeric data. `target` and `user` are represented as strings. Both of these columns are categorical data each containing 10-20 unique values. These categories are assigned a number based on the order they appear. \n",
    "\n",
    "The numerical represntation can be decoded using the `col_uniques` variables. These variables contain a set of the categories. The numeric representation is the index of its corresponding string in the `col_uniques` set.\n",
    "\n",
    "```\n",
    "Categorical data -> numerical representation  \n",
    "[\"walk\", \"stand\", \"bike\", \"sit\"] -> [1,2,3,4]\n",
    "```"
   ]
  },
  {
   "cell_type": "code",
   "execution_count": 4,
   "metadata": {},
   "outputs": [],
   "source": [
    "target_labels, target_uniques = pd.factorize(df.target)\n",
    "user_labels, user_uniques = pd.factorize(df.user)"
   ]
  },
  {
   "cell_type": "markdown",
   "metadata": {},
   "source": [
    "## Apply Change and Select Subset\n",
    "Factorizations are applied in this step, and a subset of the dataset is selected.\n",
    "\n",
    "In testing Tpot took a very long time to complete a single generation of the full dataset. I opted to select 100,00 random samples instead. "
   ]
  },
  {
   "cell_type": "code",
   "execution_count": 5,
   "metadata": {},
   "outputs": [],
   "source": [
    "df = (\n",
    "    df.assign(\n",
    "        target=lambda _: target_labels,\n",
    "        user=lambda _: user_labels\n",
    "    ).sample(n=100_000)\n",
    ")"
   ]
  },
  {
   "cell_type": "code",
   "execution_count": 6,
   "metadata": {},
   "outputs": [
    {
     "data": {
      "text/html": [
       "<div>\n",
       "<style scoped>\n",
       "    .dataframe tbody tr th:only-of-type {\n",
       "        vertical-align: middle;\n",
       "    }\n",
       "\n",
       "    .dataframe tbody tr th {\n",
       "        vertical-align: top;\n",
       "    }\n",
       "\n",
       "    .dataframe thead th {\n",
       "        text-align: right;\n",
       "    }\n",
       "</style>\n",
       "<table border=\"1\" class=\"dataframe\">\n",
       "  <thead>\n",
       "    <tr style=\"text-align: right;\">\n",
       "      <th></th>\n",
       "      <th>arrival_time</th>\n",
       "      <th>target</th>\n",
       "      <th>user</th>\n",
       "      <th>x_accel</th>\n",
       "      <th>x_gyro</th>\n",
       "      <th>y_accel</th>\n",
       "      <th>y_gyro</th>\n",
       "      <th>z_accel</th>\n",
       "      <th>z_gyro</th>\n",
       "    </tr>\n",
       "  </thead>\n",
       "  <tbody>\n",
       "    <tr>\n",
       "      <th>2792316</th>\n",
       "      <td>1424776859409</td>\n",
       "      <td>1</td>\n",
       "      <td>5</td>\n",
       "      <td>5.219009</td>\n",
       "      <td>0.008552</td>\n",
       "      <td>0.220764</td>\n",
       "      <td>-0.000611</td>\n",
       "      <td>8.22084</td>\n",
       "      <td>-0.009163</td>\n",
       "    </tr>\n",
       "  </tbody>\n",
       "</table>\n",
       "</div>"
      ],
      "text/plain": [
       "          arrival_time  target  user   x_accel    x_gyro   y_accel    y_gyro  \\\n",
       "2792316  1424776859409       1     5  5.219009  0.008552  0.220764 -0.000611   \n",
       "\n",
       "         z_accel    z_gyro  \n",
       "2792316  8.22084 -0.009163  "
      ]
     },
     "execution_count": 6,
     "metadata": {},
     "output_type": "execute_result"
    }
   ],
   "source": [
    "df.head(1)"
   ]
  },
  {
   "cell_type": "markdown",
   "metadata": {},
   "source": [
    "# Split Test And Train Sets"
   ]
  },
  {
   "cell_type": "code",
   "execution_count": 7,
   "metadata": {},
   "outputs": [],
   "source": [
    "X_train, X_test, y_train, y_test = (\n",
    "    train_test_split(df.drop(columns=[\"target\"]), df.target)\n",
    ")"
   ]
  },
  {
   "cell_type": "code",
   "execution_count": 8,
   "metadata": {},
   "outputs": [
    {
     "data": {
      "text/html": [
       "<div>\n",
       "<style scoped>\n",
       "    .dataframe tbody tr th:only-of-type {\n",
       "        vertical-align: middle;\n",
       "    }\n",
       "\n",
       "    .dataframe tbody tr th {\n",
       "        vertical-align: top;\n",
       "    }\n",
       "\n",
       "    .dataframe thead th {\n",
       "        text-align: right;\n",
       "    }\n",
       "</style>\n",
       "<table border=\"1\" class=\"dataframe\">\n",
       "  <thead>\n",
       "    <tr style=\"text-align: right;\">\n",
       "      <th></th>\n",
       "      <th>arrival_time</th>\n",
       "      <th>user</th>\n",
       "      <th>x_accel</th>\n",
       "      <th>x_gyro</th>\n",
       "      <th>y_accel</th>\n",
       "      <th>y_gyro</th>\n",
       "      <th>z_accel</th>\n",
       "      <th>z_gyro</th>\n",
       "    </tr>\n",
       "  </thead>\n",
       "  <tbody>\n",
       "    <tr>\n",
       "      <th>6870503</th>\n",
       "      <td>1424782840623</td>\n",
       "      <td>4</td>\n",
       "      <td>-2.236481</td>\n",
       "      <td>0.47905</td>\n",
       "      <td>-1.016281</td>\n",
       "      <td>-0.94046</td>\n",
       "      <td>5.656189</td>\n",
       "      <td>0.103027</td>\n",
       "    </tr>\n",
       "  </tbody>\n",
       "</table>\n",
       "</div>"
      ],
      "text/plain": [
       "          arrival_time  user   x_accel   x_gyro   y_accel   y_gyro   z_accel  \\\n",
       "6870503  1424782840623     4 -2.236481  0.47905 -1.016281 -0.94046  5.656189   \n",
       "\n",
       "           z_gyro  \n",
       "6870503  0.103027  "
      ]
     },
     "execution_count": 8,
     "metadata": {},
     "output_type": "execute_result"
    }
   ],
   "source": [
    "X_train.head(1)"
   ]
  },
  {
   "cell_type": "code",
   "execution_count": 9,
   "metadata": {},
   "outputs": [
    {
     "data": {
      "text/html": [
       "<div>\n",
       "<style scoped>\n",
       "    .dataframe tbody tr th:only-of-type {\n",
       "        vertical-align: middle;\n",
       "    }\n",
       "\n",
       "    .dataframe tbody tr th {\n",
       "        vertical-align: top;\n",
       "    }\n",
       "\n",
       "    .dataframe thead th {\n",
       "        text-align: right;\n",
       "    }\n",
       "</style>\n",
       "<table border=\"1\" class=\"dataframe\">\n",
       "  <thead>\n",
       "    <tr style=\"text-align: right;\">\n",
       "      <th></th>\n",
       "      <th>arrival_time</th>\n",
       "      <th>user</th>\n",
       "      <th>x_accel</th>\n",
       "      <th>x_gyro</th>\n",
       "      <th>y_accel</th>\n",
       "      <th>y_gyro</th>\n",
       "      <th>z_accel</th>\n",
       "      <th>z_gyro</th>\n",
       "    </tr>\n",
       "  </thead>\n",
       "  <tbody>\n",
       "    <tr>\n",
       "      <th>353997</th>\n",
       "      <td>1424781800470</td>\n",
       "      <td>4</td>\n",
       "      <td>-3.217767</td>\n",
       "      <td>0.007025</td>\n",
       "      <td>-0.459681</td>\n",
       "      <td>-0.015272</td>\n",
       "      <td>9.19362</td>\n",
       "      <td>0.020464</td>\n",
       "    </tr>\n",
       "  </tbody>\n",
       "</table>\n",
       "</div>"
      ],
      "text/plain": [
       "         arrival_time  user   x_accel    x_gyro   y_accel    y_gyro  z_accel  \\\n",
       "353997  1424781800470     4 -3.217767  0.007025 -0.459681 -0.015272  9.19362   \n",
       "\n",
       "          z_gyro  \n",
       "353997  0.020464  "
      ]
     },
     "execution_count": 9,
     "metadata": {},
     "output_type": "execute_result"
    }
   ],
   "source": [
    "X_test.head(1)"
   ]
  },
  {
   "cell_type": "code",
   "execution_count": 10,
   "metadata": {},
   "outputs": [
    {
     "data": {
      "text/plain": [
       "6870503    4\n",
       "Name: target, dtype: int64"
      ]
     },
     "execution_count": 10,
     "metadata": {},
     "output_type": "execute_result"
    }
   ],
   "source": [
    "y_train.head(1)"
   ]
  },
  {
   "cell_type": "code",
   "execution_count": 11,
   "metadata": {},
   "outputs": [
    {
     "data": {
      "text/plain": [
       "353997    0\n",
       "Name: target, dtype: int64"
      ]
     },
     "execution_count": 11,
     "metadata": {},
     "output_type": "execute_result"
    }
   ],
   "source": [
    "y_test.head(1)"
   ]
  },
  {
   "cell_type": "markdown",
   "metadata": {},
   "source": [
    "# Classify"
   ]
  },
  {
   "cell_type": "markdown",
   "metadata": {},
   "source": [
    "## Train"
   ]
  },
  {
   "cell_type": "code",
   "execution_count": 12,
   "metadata": {},
   "outputs": [
    {
     "data": {
      "application/vnd.jupyter.widget-view+json": {
       "model_id": "",
       "version_major": 2,
       "version_minor": 0
      },
      "text/plain": [
       "HBox(children=(FloatProgress(value=0.0, description='Optimization Progress', max=288.0, style=ProgressStyle(de…"
      ]
     },
     "metadata": {},
     "output_type": "display_data"
    },
    {
     "name": "stdout",
     "output_type": "stream",
     "text": [
      "Generation 1 - Current best internal CV score: 0.9991466666666666\n",
      "Generation 2 - Current best internal CV score: 0.9991466666666666\n",
      "Generation 3 - Current best internal CV score: 0.9991466666666666\n",
      "Generation 4 - Current best internal CV score: 0.9991733333333332\n",
      "Generation 5 - Current best internal CV score: 0.9991733333333332\n",
      "Generation 6 - Current best internal CV score: 0.9991733333333332\n",
      "Generation 7 - Current best internal CV score: 0.9991733333333332\n",
      "Generation 8 - Current best internal CV score: 0.9991733333333332\n",
      "\n",
      "Best pipeline: RandomForestClassifier(MinMaxScaler(Nystroem(input_matrix, gamma=0.2, kernel=polynomial, n_components=1)), bootstrap=False, criterion=entropy, max_features=0.7500000000000001, min_samples_leaf=9, min_samples_split=16, n_estimators=100)\n",
      "CPU times: user 7h 35min 29s, sys: 6min 25s, total: 7h 41min 54s\n",
      "Wall time: 7h 31min 46s\n"
     ]
    },
    {
     "data": {
      "text/plain": [
       "TPOTClassifier(config_dict=None, crossover_rate=0.1, cv=5,\n",
       "               disable_update_check=False, early_stop=None, generations=8,\n",
       "               max_eval_time_mins=5, max_time_mins=None, memory=None,\n",
       "               mutation_rate=0.9, n_jobs=1, offspring_size=None,\n",
       "               periodic_checkpoint_folder=None, population_size=32,\n",
       "               random_state=None, scoring=None, subsample=1.0, template=None,\n",
       "               use_dask=False, verbosity=2, warm_start=False)"
      ]
     },
     "execution_count": 12,
     "metadata": {},
     "output_type": "execute_result"
    }
   ],
   "source": [
    "%%time\n",
    "tpot = TPOTClassifier(generations=8, population_size=32, verbosity=2, n_jobs=1)\n",
    "tpot.fit(X_train, y_train)"
   ]
  },
  {
   "cell_type": "markdown",
   "metadata": {},
   "source": [
    "## Score"
   ]
  },
  {
   "cell_type": "code",
   "execution_count": 13,
   "metadata": {},
   "outputs": [
    {
     "name": "stdout",
     "output_type": "stream",
     "text": [
      "CPU times: user 740 ms, sys: 526 ms, total: 1.27 s\n",
      "Wall time: 301 ms\n"
     ]
    },
    {
     "data": {
      "text/plain": [
       "0.99948"
      ]
     },
     "execution_count": 13,
     "metadata": {},
     "output_type": "execute_result"
    }
   ],
   "source": [
    "%time tpot.score(X_test, y_test)"
   ]
  },
  {
   "cell_type": "markdown",
   "metadata": {},
   "source": [
    "# Export Model"
   ]
  },
  {
   "cell_type": "code",
   "execution_count": 14,
   "metadata": {},
   "outputs": [],
   "source": [
    "tpot.export(\"../model/model_01.py\")"
   ]
  }
 ],
 "metadata": {
  "kernelspec": {
   "display_name": "Python 3",
   "language": "python",
   "name": "python3"
  },
  "language_info": {
   "codemirror_mode": {
    "name": "ipython",
    "version": 3
   },
   "file_extension": ".py",
   "mimetype": "text/x-python",
   "name": "python",
   "nbconvert_exporter": "python",
   "pygments_lexer": "ipython3",
   "version": "3.7.6"
  }
 },
 "nbformat": 4,
 "nbformat_minor": 4
}

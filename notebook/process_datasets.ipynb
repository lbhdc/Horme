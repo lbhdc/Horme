{
 "cells": [
  {
   "cell_type": "code",
   "execution_count": 1,
   "metadata": {},
   "outputs": [],
   "source": [
    "%matplotlib inline\n",
    "import matplotlib.pyplot as plt\n",
    "import os\n",
    "import pandas as pd"
   ]
  },
  {
   "cell_type": "markdown",
   "metadata": {},
   "source": [
    "# About\n",
    "This notebook is the first step in playing with the activity dataset. The data is spread across a few datasets, and in this notebook I filter out uneeded data and merge the datasets into a single dataset."
   ]
  },
  {
   "cell_type": "markdown",
   "metadata": {},
   "source": [
    "# Dataset\n",
    "\n",
    "Source: [Heterogeneity Activity Recognition Data Set](https://archive.ics.uci.edu/ml/datasets/Heterogeneity+Activity+Recognition)\n",
    "\n",
    "The dataset and accompanying research can befound at UCIs dataset repository. The dataset is provided as a single archive. For my convenience I separated the included datasets into their own archives."
   ]
  },
  {
   "cell_type": "code",
   "execution_count": 2,
   "metadata": {},
   "outputs": [],
   "source": [
    "data_directory = os.environ[\"DATASET\"] + \"/heterogeneity_activity_recognition\"\n",
    "phone_accelerometer_path = f\"{data_directory}/phones_accelerometer.zip\"\n",
    "phone_gyroscope_path = f\"{data_directory}/phones_gyroscope.zip\"\n",
    "output_path = f\"{data_directory}/processed/phones.zip\""
   ]
  },
  {
   "cell_type": "code",
   "execution_count": 3,
   "metadata": {},
   "outputs": [
    {
     "data": {
      "text/html": [
       "<div>\n",
       "<style scoped>\n",
       "    .dataframe tbody tr th:only-of-type {\n",
       "        vertical-align: middle;\n",
       "    }\n",
       "\n",
       "    .dataframe tbody tr th {\n",
       "        vertical-align: top;\n",
       "    }\n",
       "\n",
       "    .dataframe thead th {\n",
       "        text-align: right;\n",
       "    }\n",
       "</style>\n",
       "<table border=\"1\" class=\"dataframe\">\n",
       "  <thead>\n",
       "    <tr style=\"text-align: right;\">\n",
       "      <th></th>\n",
       "      <th>Index</th>\n",
       "      <th>Arrival_Time</th>\n",
       "      <th>Creation_Time</th>\n",
       "      <th>x</th>\n",
       "      <th>y</th>\n",
       "      <th>z</th>\n",
       "      <th>User</th>\n",
       "      <th>Model</th>\n",
       "      <th>Device</th>\n",
       "      <th>gt</th>\n",
       "    </tr>\n",
       "  </thead>\n",
       "  <tbody>\n",
       "    <tr>\n",
       "      <th>0</th>\n",
       "      <td>0</td>\n",
       "      <td>1424696633908</td>\n",
       "      <td>1424696631913248572</td>\n",
       "      <td>-5.958191</td>\n",
       "      <td>0.688065</td>\n",
       "      <td>8.135345</td>\n",
       "      <td>a</td>\n",
       "      <td>nexus4</td>\n",
       "      <td>nexus4_1</td>\n",
       "      <td>stand</td>\n",
       "    </tr>\n",
       "  </tbody>\n",
       "</table>\n",
       "</div>"
      ],
      "text/plain": [
       "   Index   Arrival_Time        Creation_Time         x         y         z  \\\n",
       "0      0  1424696633908  1424696631913248572 -5.958191  0.688065  8.135345   \n",
       "\n",
       "  User   Model    Device     gt  \n",
       "0    a  nexus4  nexus4_1  stand  "
      ]
     },
     "execution_count": 3,
     "metadata": {},
     "output_type": "execute_result"
    }
   ],
   "source": [
    "pd.read_csv(phone_accelerometer_path).head(1)"
   ]
  },
  {
   "cell_type": "code",
   "execution_count": 4,
   "metadata": {},
   "outputs": [
    {
     "data": {
      "text/html": [
       "<div>\n",
       "<style scoped>\n",
       "    .dataframe tbody tr th:only-of-type {\n",
       "        vertical-align: middle;\n",
       "    }\n",
       "\n",
       "    .dataframe tbody tr th {\n",
       "        vertical-align: top;\n",
       "    }\n",
       "\n",
       "    .dataframe thead th {\n",
       "        text-align: right;\n",
       "    }\n",
       "</style>\n",
       "<table border=\"1\" class=\"dataframe\">\n",
       "  <thead>\n",
       "    <tr style=\"text-align: right;\">\n",
       "      <th></th>\n",
       "      <th>Index</th>\n",
       "      <th>Arrival_Time</th>\n",
       "      <th>Creation_Time</th>\n",
       "      <th>x</th>\n",
       "      <th>y</th>\n",
       "      <th>z</th>\n",
       "      <th>User</th>\n",
       "      <th>Model</th>\n",
       "      <th>Device</th>\n",
       "      <th>gt</th>\n",
       "    </tr>\n",
       "  </thead>\n",
       "  <tbody>\n",
       "    <tr>\n",
       "      <th>0</th>\n",
       "      <td>0</td>\n",
       "      <td>1424696633909</td>\n",
       "      <td>1424696631914042029</td>\n",
       "      <td>0.013748</td>\n",
       "      <td>-0.000626</td>\n",
       "      <td>-0.023376</td>\n",
       "      <td>a</td>\n",
       "      <td>nexus4</td>\n",
       "      <td>nexus4_1</td>\n",
       "      <td>stand</td>\n",
       "    </tr>\n",
       "  </tbody>\n",
       "</table>\n",
       "</div>"
      ],
      "text/plain": [
       "   Index   Arrival_Time        Creation_Time         x         y         z  \\\n",
       "0      0  1424696633909  1424696631914042029  0.013748 -0.000626 -0.023376   \n",
       "\n",
       "  User   Model    Device     gt  \n",
       "0    a  nexus4  nexus4_1  stand  "
      ]
     },
     "execution_count": 4,
     "metadata": {},
     "output_type": "execute_result"
    }
   ],
   "source": [
    "pd.read_csv(phone_gyroscope_path).head(1)"
   ]
  },
  {
   "cell_type": "markdown",
   "metadata": {},
   "source": [
    "# Preprocessing\n",
    "\n",
    "**`read`** opens a device dataset, and performs some basic processing. Columns are pruned and column names are normalized, categorial data is converted to categorical respresentations, and the dataset is indexed on time. The arrival time is used for the time index to provide a standard across all devices."
   ]
  },
  {
   "cell_type": "code",
   "execution_count": 5,
   "metadata": {},
   "outputs": [],
   "source": [
    "def read(path):\n",
    "    return (\n",
    "        pd.read_csv(path)\n",
    "        .rename(columns=str.lower)\n",
    "        .rename(columns={\"gt\": \"target\"})\n",
    "        .set_index(\"arrival_time\")\n",
    "        .drop(columns=[\"creation_time\", \"device\", \"index\", \"model\"])\n",
    "        .assign(\n",
    "            target=lambda df: pd.Categorical(df[\"target\"]),\n",
    "            user=lambda df: pd.Categorical(df[\"user\"])\n",
    "        )\n",
    "    )"
   ]
  },
  {
   "cell_type": "markdown",
   "metadata": {},
   "source": [
    "# Merge\n",
    "\n",
    "**`df`** is the accelerometer and gyroscope datasets merged on their time axis. This produces rows with incomplete data where one dataset had a timestamp that the other did not. In those cases the data is dropped."
   ]
  },
  {
   "cell_type": "code",
   "execution_count": 6,
   "metadata": {},
   "outputs": [
    {
     "name": "stdout",
     "output_type": "stream",
     "text": [
      "CPU times: user 46.2 s, sys: 4.82 s, total: 51 s\n",
      "Wall time: 51.1 s\n"
     ]
    },
    {
     "data": {
      "text/html": [
       "<div>\n",
       "<style scoped>\n",
       "    .dataframe tbody tr th:only-of-type {\n",
       "        vertical-align: middle;\n",
       "    }\n",
       "\n",
       "    .dataframe tbody tr th {\n",
       "        vertical-align: top;\n",
       "    }\n",
       "\n",
       "    .dataframe thead th {\n",
       "        text-align: right;\n",
       "    }\n",
       "</style>\n",
       "<table border=\"1\" class=\"dataframe\">\n",
       "  <thead>\n",
       "    <tr style=\"text-align: right;\">\n",
       "      <th></th>\n",
       "      <th>x_accel</th>\n",
       "      <th>y_accel</th>\n",
       "      <th>z_accel</th>\n",
       "      <th>user_accel</th>\n",
       "      <th>target_accel</th>\n",
       "      <th>x_gyro</th>\n",
       "      <th>y_gyro</th>\n",
       "      <th>z_gyro</th>\n",
       "      <th>user_gyro</th>\n",
       "      <th>target_gyro</th>\n",
       "    </tr>\n",
       "    <tr>\n",
       "      <th>arrival_time</th>\n",
       "      <th></th>\n",
       "      <th></th>\n",
       "      <th></th>\n",
       "      <th></th>\n",
       "      <th></th>\n",
       "      <th></th>\n",
       "      <th></th>\n",
       "      <th></th>\n",
       "      <th></th>\n",
       "      <th></th>\n",
       "    </tr>\n",
       "  </thead>\n",
       "  <tbody>\n",
       "    <tr>\n",
       "      <th>1424686733391</th>\n",
       "      <td>-2.779668</td>\n",
       "      <td>1.908179</td>\n",
       "      <td>8.927979</td>\n",
       "      <td>g</td>\n",
       "      <td>stand</td>\n",
       "      <td>0.015577</td>\n",
       "      <td>-0.043371</td>\n",
       "      <td>-0.014661</td>\n",
       "      <td>g</td>\n",
       "      <td>stand</td>\n",
       "    </tr>\n",
       "  </tbody>\n",
       "</table>\n",
       "</div>"
      ],
      "text/plain": [
       "                x_accel   y_accel   z_accel user_accel target_accel    x_gyro  \\\n",
       "arrival_time                                                                    \n",
       "1424686733391 -2.779668  1.908179  8.927979          g        stand  0.015577   \n",
       "\n",
       "                 y_gyro    z_gyro user_gyro target_gyro  \n",
       "arrival_time                                             \n",
       "1424686733391 -0.043371 -0.014661         g       stand  "
      ]
     },
     "execution_count": 6,
     "metadata": {},
     "output_type": "execute_result"
    }
   ],
   "source": [
    "%time df = (read(phone_accelerometer_path).join(read(phone_gyroscope_path), lsuffix=\"_accel\", rsuffix=\"_gyro\").dropna()); df.head(1)"
   ]
  },
  {
   "cell_type": "markdown",
   "metadata": {},
   "source": [
    "## Merge Conflicts\n",
    "\n",
    "Each dataset has a target and a user column that gets a unique suffix for each dataset. To make things easier to work with one of those columns is dropped, and the column names are returned to `target` and `user`."
   ]
  },
  {
   "cell_type": "code",
   "execution_count": 7,
   "metadata": {},
   "outputs": [],
   "source": [
    "def normalize_target(df):\n",
    "    return (\n",
    "        df.rename(columns={\"target_accel\": \"target\"})\n",
    "        .drop(columns=[\"target_gyro\"])\n",
    "    )"
   ]
  },
  {
   "cell_type": "code",
   "execution_count": 8,
   "metadata": {},
   "outputs": [],
   "source": [
    "def normalize_user(df):\n",
    "    return (\n",
    "        df.rename(columns={\"user_accel\": \"user\"})\n",
    "        .drop(columns=[\"user_gyro\"])\n",
    "    )"
   ]
  },
  {
   "cell_type": "markdown",
   "metadata": {},
   "source": [
    "# Balance"
   ]
  },
  {
   "cell_type": "markdown",
   "metadata": {},
   "source": [
    "Number of occurrences by activity before balancing"
   ]
  },
  {
   "cell_type": "code",
   "execution_count": 9,
   "metadata": {},
   "outputs": [
    {
     "data": {
      "text/plain": [
       "walk          2266727\n",
       "sit           2062641\n",
       "stand         1809463\n",
       "stairsup      1762269\n",
       "bike          1675293\n",
       "stairsdown    1479768\n",
       "Name: target_accel, dtype: int64"
      ]
     },
     "execution_count": 9,
     "metadata": {},
     "output_type": "execute_result"
    }
   ],
   "source": [
    "df.target_accel.value_counts()"
   ]
  },
  {
   "cell_type": "markdown",
   "metadata": {},
   "source": [
    "---\n",
    "For this notebook I am using undersampling to balance the dataset."
   ]
  },
  {
   "cell_type": "code",
   "execution_count": 10,
   "metadata": {},
   "outputs": [],
   "source": [
    "def balance(strategy=\"undersample\", seed=0):\n",
    "    def F(df):\n",
    "        count: int\n",
    "        replace: bool\n",
    "        target = pd.DataFrame()\n",
    "        \n",
    "        # oversample\n",
    "        if \"oversample\" in strategy:\n",
    "            count = df.target.value_counts().max()\n",
    "            replace = True\n",
    "        \n",
    "        # undersample\n",
    "        else:\n",
    "            count = df.target.value_counts().min()\n",
    "            replace = False\n",
    "        \n",
    "        for action in df.target.unique():\n",
    "            sample = (\n",
    "                df[df.target == action]\n",
    "                .sample(n=count, replace=replace, random_state=seed)\n",
    "            )\n",
    "            \n",
    "            target = pd.concat((target, sample), axis=\"rows\")\n",
    "\n",
    "        return target\n",
    "    \n",
    "    return F"
   ]
  },
  {
   "cell_type": "markdown",
   "metadata": {},
   "source": [
    "# Apply Processing"
   ]
  },
  {
   "cell_type": "code",
   "execution_count": 11,
   "metadata": {},
   "outputs": [
    {
     "name": "stdout",
     "output_type": "stream",
     "text": [
      "CPU times: user 1.87 s, sys: 483 ms, total: 2.35 s\n",
      "Wall time: 2.36 s\n"
     ]
    }
   ],
   "source": [
    "%%time \n",
    "df = (\n",
    "    df.pipe(normalize_target)\n",
    "    .pipe(normalize_user)\n",
    "    .pipe(balance(strategy=\"undersample\"))\n",
    "    .sort_index(axis=\"columns\")\n",
    ")"
   ]
  },
  {
   "cell_type": "markdown",
   "metadata": {},
   "source": [
    "# Visualize"
   ]
  },
  {
   "cell_type": "code",
   "execution_count": 12,
   "metadata": {},
   "outputs": [
    {
     "data": {
      "text/plain": [
       "'total number of rows in the dataset 8878608'"
      ]
     },
     "execution_count": 12,
     "metadata": {},
     "output_type": "execute_result"
    }
   ],
   "source": [
    "f\"total number of rows in the dataset {len(df)}\""
   ]
  },
  {
   "cell_type": "markdown",
   "metadata": {},
   "source": [
    "---\n",
    "Random slice of the dataset"
   ]
  },
  {
   "cell_type": "code",
   "execution_count": 13,
   "metadata": {},
   "outputs": [
    {
     "data": {
      "text/html": [
       "<div>\n",
       "<style scoped>\n",
       "    .dataframe tbody tr th:only-of-type {\n",
       "        vertical-align: middle;\n",
       "    }\n",
       "\n",
       "    .dataframe tbody tr th {\n",
       "        vertical-align: top;\n",
       "    }\n",
       "\n",
       "    .dataframe thead th {\n",
       "        text-align: right;\n",
       "    }\n",
       "</style>\n",
       "<table border=\"1\" class=\"dataframe\">\n",
       "  <thead>\n",
       "    <tr style=\"text-align: right;\">\n",
       "      <th></th>\n",
       "      <th>target</th>\n",
       "      <th>user</th>\n",
       "      <th>x_accel</th>\n",
       "      <th>x_gyro</th>\n",
       "      <th>y_accel</th>\n",
       "      <th>y_gyro</th>\n",
       "      <th>z_accel</th>\n",
       "      <th>z_gyro</th>\n",
       "    </tr>\n",
       "    <tr>\n",
       "      <th>arrival_time</th>\n",
       "      <th></th>\n",
       "      <th></th>\n",
       "      <th></th>\n",
       "      <th></th>\n",
       "      <th></th>\n",
       "      <th></th>\n",
       "      <th></th>\n",
       "      <th></th>\n",
       "    </tr>\n",
       "  </thead>\n",
       "  <tbody>\n",
       "    <tr>\n",
       "      <th>1424785025465</th>\n",
       "      <td>sit</td>\n",
       "      <td>b</td>\n",
       "      <td>8.605958</td>\n",
       "      <td>0.021686</td>\n",
       "      <td>0.232238</td>\n",
       "      <td>-0.007941</td>\n",
       "      <td>4.331111</td>\n",
       "      <td>0.026878</td>\n",
       "    </tr>\n",
       "    <tr>\n",
       "      <th>1424694804899</th>\n",
       "      <td>stairsup</td>\n",
       "      <td>c</td>\n",
       "      <td>6.895215</td>\n",
       "      <td>-0.309709</td>\n",
       "      <td>0.306454</td>\n",
       "      <td>-0.355218</td>\n",
       "      <td>7.048442</td>\n",
       "      <td>-0.282831</td>\n",
       "    </tr>\n",
       "    <tr>\n",
       "      <th>1424688396641</th>\n",
       "      <td>stairsup</td>\n",
       "      <td>g</td>\n",
       "      <td>-2.406677</td>\n",
       "      <td>-0.816116</td>\n",
       "      <td>0.006088</td>\n",
       "      <td>0.137750</td>\n",
       "      <td>10.213409</td>\n",
       "      <td>1.295951</td>\n",
       "    </tr>\n",
       "    <tr>\n",
       "      <th>1424782532380</th>\n",
       "      <td>walk</td>\n",
       "      <td>d</td>\n",
       "      <td>-4.305023</td>\n",
       "      <td>-0.346603</td>\n",
       "      <td>-0.366440</td>\n",
       "      <td>0.063568</td>\n",
       "      <td>14.374298</td>\n",
       "      <td>-0.266541</td>\n",
       "    </tr>\n",
       "    <tr>\n",
       "      <th>1424776819218</th>\n",
       "      <td>sit</td>\n",
       "      <td>i</td>\n",
       "      <td>5.209783</td>\n",
       "      <td>-0.011711</td>\n",
       "      <td>0.881066</td>\n",
       "      <td>-0.014883</td>\n",
       "      <td>8.264784</td>\n",
       "      <td>-0.006587</td>\n",
       "    </tr>\n",
       "    <tr>\n",
       "      <th>1424783263590</th>\n",
       "      <td>bike</td>\n",
       "      <td>d</td>\n",
       "      <td>-1.838724</td>\n",
       "      <td>-0.253509</td>\n",
       "      <td>-0.459681</td>\n",
       "      <td>-0.486860</td>\n",
       "      <td>9.959755</td>\n",
       "      <td>0.194866</td>\n",
       "    </tr>\n",
       "    <tr>\n",
       "      <th>1424779841333</th>\n",
       "      <td>walk</td>\n",
       "      <td>f</td>\n",
       "      <td>-1.542435</td>\n",
       "      <td>-0.090760</td>\n",
       "      <td>2.396423</td>\n",
       "      <td>0.080513</td>\n",
       "      <td>13.844467</td>\n",
       "      <td>0.017810</td>\n",
       "    </tr>\n",
       "    <tr>\n",
       "      <th>1424784945375</th>\n",
       "      <td>stand</td>\n",
       "      <td>b</td>\n",
       "      <td>-1.102234</td>\n",
       "      <td>0.011606</td>\n",
       "      <td>0.048935</td>\n",
       "      <td>0.016188</td>\n",
       "      <td>10.234833</td>\n",
       "      <td>0.111177</td>\n",
       "    </tr>\n",
       "    <tr>\n",
       "      <th>1424696838311</th>\n",
       "      <td>stand</td>\n",
       "      <td>a</td>\n",
       "      <td>-6.124649</td>\n",
       "      <td>0.019608</td>\n",
       "      <td>0.475464</td>\n",
       "      <td>-0.014114</td>\n",
       "      <td>7.645981</td>\n",
       "      <td>-0.037476</td>\n",
       "    </tr>\n",
       "    <tr>\n",
       "      <th>1424787662384</th>\n",
       "      <td>sit</td>\n",
       "      <td>e</td>\n",
       "      <td>3.957245</td>\n",
       "      <td>-0.014639</td>\n",
       "      <td>-0.061752</td>\n",
       "      <td>-0.019274</td>\n",
       "      <td>9.613556</td>\n",
       "      <td>-0.008295</td>\n",
       "    </tr>\n",
       "  </tbody>\n",
       "</table>\n",
       "</div>"
      ],
      "text/plain": [
       "                 target user   x_accel    x_gyro   y_accel    y_gyro  \\\n",
       "arrival_time                                                           \n",
       "1424785025465       sit    b  8.605958  0.021686  0.232238 -0.007941   \n",
       "1424694804899  stairsup    c  6.895215 -0.309709  0.306454 -0.355218   \n",
       "1424688396641  stairsup    g -2.406677 -0.816116  0.006088  0.137750   \n",
       "1424782532380      walk    d -4.305023 -0.346603 -0.366440  0.063568   \n",
       "1424776819218       sit    i  5.209783 -0.011711  0.881066 -0.014883   \n",
       "1424783263590      bike    d -1.838724 -0.253509 -0.459681 -0.486860   \n",
       "1424779841333      walk    f -1.542435 -0.090760  2.396423  0.080513   \n",
       "1424784945375     stand    b -1.102234  0.011606  0.048935  0.016188   \n",
       "1424696838311     stand    a -6.124649  0.019608  0.475464 -0.014114   \n",
       "1424787662384       sit    e  3.957245 -0.014639 -0.061752 -0.019274   \n",
       "\n",
       "                 z_accel    z_gyro  \n",
       "arrival_time                        \n",
       "1424785025465   4.331111  0.026878  \n",
       "1424694804899   7.048442 -0.282831  \n",
       "1424688396641  10.213409  1.295951  \n",
       "1424782532380  14.374298 -0.266541  \n",
       "1424776819218   8.264784 -0.006587  \n",
       "1424783263590   9.959755  0.194866  \n",
       "1424779841333  13.844467  0.017810  \n",
       "1424784945375  10.234833  0.111177  \n",
       "1424696838311   7.645981 -0.037476  \n",
       "1424787662384   9.613556 -0.008295  "
      ]
     },
     "execution_count": 13,
     "metadata": {},
     "output_type": "execute_result"
    }
   ],
   "source": [
    "df.sample(n=10)"
   ]
  },
  {
   "cell_type": "markdown",
   "metadata": {},
   "source": [
    "---\n",
    "Number of occurrences by activity categry"
   ]
  },
  {
   "cell_type": "code",
   "execution_count": 14,
   "metadata": {},
   "outputs": [
    {
     "data": {
      "text/plain": [
       "walk          1479768\n",
       "stand         1479768\n",
       "stairsup      1479768\n",
       "stairsdown    1479768\n",
       "sit           1479768\n",
       "bike          1479768\n",
       "Name: target, dtype: int64"
      ]
     },
     "execution_count": 14,
     "metadata": {},
     "output_type": "execute_result"
    }
   ],
   "source": [
    "df.target.value_counts()"
   ]
  },
  {
   "cell_type": "markdown",
   "metadata": {},
   "source": [
    "---\n",
    "Sensor readings per user"
   ]
  },
  {
   "cell_type": "code",
   "execution_count": 15,
   "metadata": {},
   "outputs": [
    {
     "data": {
      "image/png": "[encoded data removed]",
      "text/plain": [
       "<Figure size 432x288 with 1 Axes>"
      ]
     },
     "metadata": {
      "needs_background": "light"
     },
     "output_type": "display_data"
    }
   ],
   "source": [
    "df.user.value_counts().plot(kind=\"bar\");"
   ]
  },
  {
   "cell_type": "markdown",
   "metadata": {},
   "source": [
    "---\n",
    "Breakdown of the actions taken"
   ]
  },
  {
   "cell_type": "code",
   "execution_count": 16,
   "metadata": {},
   "outputs": [
    {
     "data": {
      "image/png": "[encoded data removed]",
      "text/plain": [
       "<Figure size 432x288 with 1 Axes>"
      ]
     },
     "metadata": {},
     "output_type": "display_data"
    }
   ],
   "source": [
    "df.target.value_counts().plot(kind=\"pie\");"
   ]
  },
  {
   "cell_type": "markdown",
   "metadata": {},
   "source": [
    "## Activity By User"
   ]
  },
  {
   "cell_type": "code",
   "execution_count": 17,
   "metadata": {},
   "outputs": [
    {
     "name": "stdout",
     "output_type": "stream",
     "text": [
      "====================================\n",
      "User:a\n"
     ]
    },
    {
     "data": {
      "image/png": "[encoded data removed]",
      "text/plain": [
       "<Figure size 432x288 with 1 Axes>"
      ]
     },
     "metadata": {},
     "output_type": "display_data"
    },
    {
     "name": "stdout",
     "output_type": "stream",
     "text": [
      "stand         194492\n",
      "sit           193193\n",
      "stairsdown    168575\n",
      "stairsup      167133\n",
      "bike          143679\n",
      "walk          143562\n",
      "Name: target, dtype: int64\n",
      "====================================\n",
      "User:b\n"
     ]
    },
    {
     "data": {
      "image/png": "[encoded data removed]",
      "text/plain": [
       "<Figure size 432x288 with 1 Axes>"
      ]
     },
     "metadata": {},
     "output_type": "display_data"
    },
    {
     "name": "stdout",
     "output_type": "stream",
     "text": [
      "bike          222158\n",
      "walk          181566\n",
      "stairsup      177046\n",
      "stairsdown    171363\n",
      "stand         145404\n",
      "sit           129021\n",
      "Name: target, dtype: int64\n",
      "====================================\n",
      "User:c\n"
     ]
    },
    {
     "data": {
      "image/png": "[encoded data removed]",
      "text/plain": [
       "<Figure size 432x288 with 1 Axes>"
      ]
     },
     "metadata": {},
     "output_type": "display_data"
    },
    {
     "name": "stdout",
     "output_type": "stream",
     "text": [
      "stairsup      186341\n",
      "stairsdown    166808\n",
      "sit           159486\n",
      "walk          158801\n",
      "stand         143787\n",
      "bike          122650\n",
      "Name: target, dtype: int64\n",
      "====================================\n",
      "User:d\n"
     ]
    },
    {
     "data": {
      "image/png": "[encoded data removed]",
      "text/plain": [
       "<Figure size 432x288 with 1 Axes>"
      ]
     },
     "metadata": {},
     "output_type": "display_data"
    },
    {
     "name": "stdout",
     "output_type": "stream",
     "text": [
      "stand         187016\n",
      "stairsup      183006\n",
      "walk          178455\n",
      "sit           159843\n",
      "bike          145430\n",
      "stairsdown    144248\n",
      "Name: target, dtype: int64\n",
      "====================================\n",
      "User:e\n"
     ]
    },
    {
     "data": {
      "image/png": "[encoded data removed]",
      "text/plain": [
       "<Figure size 432x288 with 1 Axes>"
      ]
     },
     "metadata": {},
     "output_type": "display_data"
    },
    {
     "name": "stdout",
     "output_type": "stream",
     "text": [
      "bike          199736\n",
      "stand         185904\n",
      "walk          182746\n",
      "sit           171136\n",
      "stairsdown    157136\n",
      "stairsup      150755\n",
      "Name: target, dtype: int64\n",
      "====================================\n",
      "User:f\n"
     ]
    },
    {
     "data": {
      "image/png": "[encoded data removed]",
      "text/plain": [
       "<Figure size 432x288 with 1 Axes>"
      ]
     },
     "metadata": {},
     "output_type": "display_data"
    },
    {
     "name": "stdout",
     "output_type": "stream",
     "text": [
      "stairsup      150487\n",
      "bike          145381\n",
      "stairsdown    143710\n",
      "stand         130706\n",
      "walk          130164\n",
      "sit           118492\n",
      "Name: target, dtype: int64\n",
      "====================================\n",
      "User:g\n"
     ]
    },
    {
     "data": {
      "image/png": "[encoded data removed]",
      "text/plain": [
       "<Figure size 432x288 with 1 Axes>"
      ]
     },
     "metadata": {},
     "output_type": "display_data"
    },
    {
     "name": "stdout",
     "output_type": "stream",
     "text": [
      "stand         181930\n",
      "walk          181857\n",
      "sit           174618\n",
      "stairsdown    171716\n",
      "bike          148604\n",
      "stairsup      143474\n",
      "Name: target, dtype: int64\n",
      "====================================\n",
      "User:h\n"
     ]
    },
    {
     "data": {
      "image/png": "[encoded data removed]",
      "text/plain": [
       "<Figure size 432x288 with 1 Axes>"
      ]
     },
     "metadata": {},
     "output_type": "display_data"
    },
    {
     "name": "stdout",
     "output_type": "stream",
     "text": [
      "sit           192457\n",
      "stairsdown    175016\n",
      "stairsup      159681\n",
      "bike          154440\n",
      "walk          141092\n",
      "stand         134168\n",
      "Name: target, dtype: int64\n",
      "====================================\n",
      "User:i\n"
     ]
    },
    {
     "data": {
      "image/png": "[encoded data removed]",
      "text/plain": [
       "<Figure size 432x288 with 1 Axes>"
      ]
     },
     "metadata": {},
     "output_type": "display_data"
    },
    {
     "name": "stdout",
     "output_type": "stream",
     "text": [
      "bike          197690\n",
      "walk          181525\n",
      "sit           181522\n",
      "stairsdown    181196\n",
      "stand         176361\n",
      "stairsup      161845\n",
      "Name: target, dtype: int64\n"
     ]
    }
   ],
   "source": [
    "for user in sorted(df.user.unique()):\n",
    "    print(f\"====================================\\nUser:{user}\")\n",
    "    mask = df.user == user\n",
    "    df[mask].target.value_counts().plot(kind=\"pie\")\n",
    "    plt.show()\n",
    "    print(df[mask].target.value_counts())"
   ]
  },
  {
   "cell_type": "markdown",
   "metadata": {},
   "source": [
    "# Export Dataset"
   ]
  },
  {
   "cell_type": "code",
   "execution_count": 18,
   "metadata": {},
   "outputs": [
    {
     "name": "stdout",
     "output_type": "stream",
     "text": [
      "CPU times: user 1min 47s, sys: 1.2 s, total: 1min 48s\n",
      "Wall time: 1min 49s\n"
     ]
    }
   ],
   "source": [
    "%time df.to_csv(output_path)"
   ]
  }
 ],
 "metadata": {
  "kernelspec": {
   "display_name": "Python 3",
   "language": "python",
   "name": "python3"
  },
  "language_info": {
   "codemirror_mode": {
    "name": "ipython",
    "version": 3
   },
   "file_extension": ".py",
   "mimetype": "text/x-python",
   "name": "python",
   "nbconvert_exporter": "python",
   "pygments_lexer": "ipython3",
   "version": "3.7.6"
  }
 },
 "nbformat": 4,
 "nbformat_minor": 4
}

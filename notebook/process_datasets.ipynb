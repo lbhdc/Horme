{
 "cells": [
  {
   "cell_type": "code",
   "execution_count": 1,
   "metadata": {},
   "outputs": [],
   "source": [
    "%matplotlib inline\n",
    "import matplotlib.pyplot as plt\n",
    "import os\n",
    "import pandas as pd"
   ]
  },
  {
   "cell_type": "markdown",
   "metadata": {},
   "source": [
    "# About\n",
    "This notebook is the first step in playing with the activity dataset. The data is spread across a few datasets, and in this notebook I filter out uneeded data and merge the datasets into a single dataset."
   ]
  },
  {
   "cell_type": "markdown",
   "metadata": {},
   "source": [
    "# Dataset\n",
    "\n",
    "Source: [Heterogeneity Activity Recognition Data Set](https://archive.ics.uci.edu/ml/datasets/Heterogeneity+Activity+Recognition)\n",
    "\n",
    "The dataset and accompanying research can befound at UCIs dataset repository. The dataset is provided as a single archive. For my convenience I separated the included datasets into their own archives."
   ]
  },
  {
   "cell_type": "code",
   "execution_count": 2,
   "metadata": {},
   "outputs": [],
   "source": [
    "data_directory = os.environ[\"DATASET\"] + \"/heterogeneity_activity_recognition\"\n",
    "phone_accelerometer_path = f\"{data_directory}/phones_accelerometer.zip\"\n",
    "phone_gyroscope_path = f\"{data_directory}/phones_gyroscope.zip\"\n",
    "output_path = f\"{data_directory}/processed/phones.zip\""
   ]
  },
  {
   "cell_type": "code",
   "execution_count": 3,
   "metadata": {},
   "outputs": [
    {
     "data": {
      "text/html": [
       "<div>\n",
       "<style scoped>\n",
       "    .dataframe tbody tr th:only-of-type {\n",
       "        vertical-align: middle;\n",
       "    }\n",
       "\n",
       "    .dataframe tbody tr th {\n",
       "        vertical-align: top;\n",
       "    }\n",
       "\n",
       "    .dataframe thead th {\n",
       "        text-align: right;\n",
       "    }\n",
       "</style>\n",
       "<table border=\"1\" class=\"dataframe\">\n",
       "  <thead>\n",
       "    <tr style=\"text-align: right;\">\n",
       "      <th></th>\n",
       "      <th>Index</th>\n",
       "      <th>Arrival_Time</th>\n",
       "      <th>Creation_Time</th>\n",
       "      <th>x</th>\n",
       "      <th>y</th>\n",
       "      <th>z</th>\n",
       "      <th>User</th>\n",
       "      <th>Model</th>\n",
       "      <th>Device</th>\n",
       "      <th>gt</th>\n",
       "    </tr>\n",
       "  </thead>\n",
       "  <tbody>\n",
       "    <tr>\n",
       "      <th>0</th>\n",
       "      <td>0</td>\n",
       "      <td>1424696633908</td>\n",
       "      <td>1424696631913248572</td>\n",
       "      <td>-5.958191</td>\n",
       "      <td>0.688065</td>\n",
       "      <td>8.135345</td>\n",
       "      <td>a</td>\n",
       "      <td>nexus4</td>\n",
       "      <td>nexus4_1</td>\n",
       "      <td>stand</td>\n",
       "    </tr>\n",
       "  </tbody>\n",
       "</table>\n",
       "</div>"
      ],
      "text/plain": [
       "   Index   Arrival_Time        Creation_Time         x         y         z  \\\n",
       "0      0  1424696633908  1424696631913248572 -5.958191  0.688065  8.135345   \n",
       "\n",
       "  User   Model    Device     gt  \n",
       "0    a  nexus4  nexus4_1  stand  "
      ]
     },
     "execution_count": 3,
     "metadata": {},
     "output_type": "execute_result"
    }
   ],
   "source": [
    "pd.read_csv(phone_accelerometer_path).head(1)"
   ]
  },
  {
   "cell_type": "code",
   "execution_count": 4,
   "metadata": {},
   "outputs": [
    {
     "data": {
      "text/html": [
       "<div>\n",
       "<style scoped>\n",
       "    .dataframe tbody tr th:only-of-type {\n",
       "        vertical-align: middle;\n",
       "    }\n",
       "\n",
       "    .dataframe tbody tr th {\n",
       "        vertical-align: top;\n",
       "    }\n",
       "\n",
       "    .dataframe thead th {\n",
       "        text-align: right;\n",
       "    }\n",
       "</style>\n",
       "<table border=\"1\" class=\"dataframe\">\n",
       "  <thead>\n",
       "    <tr style=\"text-align: right;\">\n",
       "      <th></th>\n",
       "      <th>Index</th>\n",
       "      <th>Arrival_Time</th>\n",
       "      <th>Creation_Time</th>\n",
       "      <th>x</th>\n",
       "      <th>y</th>\n",
       "      <th>z</th>\n",
       "      <th>User</th>\n",
       "      <th>Model</th>\n",
       "      <th>Device</th>\n",
       "      <th>gt</th>\n",
       "    </tr>\n",
       "  </thead>\n",
       "  <tbody>\n",
       "    <tr>\n",
       "      <th>0</th>\n",
       "      <td>0</td>\n",
       "      <td>1424696633909</td>\n",
       "      <td>1424696631914042029</td>\n",
       "      <td>0.013748</td>\n",
       "      <td>-0.000626</td>\n",
       "      <td>-0.023376</td>\n",
       "      <td>a</td>\n",
       "      <td>nexus4</td>\n",
       "      <td>nexus4_1</td>\n",
       "      <td>stand</td>\n",
       "    </tr>\n",
       "  </tbody>\n",
       "</table>\n",
       "</div>"
      ],
      "text/plain": [
       "   Index   Arrival_Time        Creation_Time         x         y         z  \\\n",
       "0      0  1424696633909  1424696631914042029  0.013748 -0.000626 -0.023376   \n",
       "\n",
       "  User   Model    Device     gt  \n",
       "0    a  nexus4  nexus4_1  stand  "
      ]
     },
     "execution_count": 4,
     "metadata": {},
     "output_type": "execute_result"
    }
   ],
   "source": [
    "pd.read_csv(phone_gyroscope_path).head(1)"
   ]
  },
  {
   "cell_type": "markdown",
   "metadata": {},
   "source": [
    "# Preprocessing\n",
    "\n",
    "**`read`** opens a device dataset, and performs some basic processing. Columns are pruned and column names are normalized, categorial data is converted to categorical respresentations, and the dataset is indexed on time. The arrival time is used for the time index to provide a standard across all devices."
   ]
  },
  {
   "cell_type": "code",
   "execution_count": 5,
   "metadata": {},
   "outputs": [],
   "source": [
    "def read(path):\n",
    "    return (\n",
    "        pd.read_csv(path)\n",
    "        .rename(columns=str.lower)\n",
    "        .rename(columns={\"gt\": \"target\"})\n",
    "        .set_index(\"arrival_time\")\n",
    "        .drop(columns=[\"creation_time\", \"device\", \"index\", \"model\"])\n",
    "        .assign(\n",
    "            target=lambda df: pd.Categorical(df[\"target\"]),\n",
    "            user=lambda df: pd.Categorical(df[\"user\"])\n",
    "        )\n",
    "    )"
   ]
  },
  {
   "cell_type": "markdown",
   "metadata": {},
   "source": [
    "# Merge\n",
    "\n",
    "**`df`** is the accelerometer and gyroscope datasets merged on their time axis. This produces rows with incomplete data where one dataset had a timestamp that the other did not. In those cases the data is dropped."
   ]
  },
  {
   "cell_type": "code",
   "execution_count": 6,
   "metadata": {},
   "outputs": [
    {
     "name": "stdout",
     "output_type": "stream",
     "text": [
      "CPU times: user 56.1 s, sys: 5.87 s, total: 1min 1s\n",
      "Wall time: 1min 2s\n"
     ]
    },
    {
     "data": {
      "text/html": [
       "<div>\n",
       "<style scoped>\n",
       "    .dataframe tbody tr th:only-of-type {\n",
       "        vertical-align: middle;\n",
       "    }\n",
       "\n",
       "    .dataframe tbody tr th {\n",
       "        vertical-align: top;\n",
       "    }\n",
       "\n",
       "    .dataframe thead th {\n",
       "        text-align: right;\n",
       "    }\n",
       "</style>\n",
       "<table border=\"1\" class=\"dataframe\">\n",
       "  <thead>\n",
       "    <tr style=\"text-align: right;\">\n",
       "      <th></th>\n",
       "      <th>x_accel</th>\n",
       "      <th>y_accel</th>\n",
       "      <th>z_accel</th>\n",
       "      <th>user_accel</th>\n",
       "      <th>target_accel</th>\n",
       "      <th>x_gyro</th>\n",
       "      <th>y_gyro</th>\n",
       "      <th>z_gyro</th>\n",
       "      <th>user_gyro</th>\n",
       "      <th>target_gyro</th>\n",
       "    </tr>\n",
       "    <tr>\n",
       "      <th>arrival_time</th>\n",
       "      <th></th>\n",
       "      <th></th>\n",
       "      <th></th>\n",
       "      <th></th>\n",
       "      <th></th>\n",
       "      <th></th>\n",
       "      <th></th>\n",
       "      <th></th>\n",
       "      <th></th>\n",
       "      <th></th>\n",
       "    </tr>\n",
       "  </thead>\n",
       "  <tbody>\n",
       "    <tr>\n",
       "      <th>1424686733391</th>\n",
       "      <td>-2.779668</td>\n",
       "      <td>1.908179</td>\n",
       "      <td>8.927979</td>\n",
       "      <td>g</td>\n",
       "      <td>stand</td>\n",
       "      <td>0.015577</td>\n",
       "      <td>-0.043371</td>\n",
       "      <td>-0.014661</td>\n",
       "      <td>g</td>\n",
       "      <td>stand</td>\n",
       "    </tr>\n",
       "  </tbody>\n",
       "</table>\n",
       "</div>"
      ],
      "text/plain": [
       "                x_accel   y_accel   z_accel user_accel target_accel    x_gyro  \\\n",
       "arrival_time                                                                    \n",
       "1424686733391 -2.779668  1.908179  8.927979          g        stand  0.015577   \n",
       "\n",
       "                 y_gyro    z_gyro user_gyro target_gyro  \n",
       "arrival_time                                             \n",
       "1424686733391 -0.043371 -0.014661         g       stand  "
      ]
     },
     "execution_count": 6,
     "metadata": {},
     "output_type": "execute_result"
    }
   ],
   "source": [
    "%time df = (read(phone_accelerometer_path).join(read(phone_gyroscope_path), lsuffix=\"_accel\", rsuffix=\"_gyro\").dropna()); df.head(1)"
   ]
  },
  {
   "cell_type": "markdown",
   "metadata": {},
   "source": [
    "## Merge Conflicts\n",
    "\n",
    "Each dataset has a target and a user column that gets a unique suffix for each dataset. To make things easier to work with one of those columns is dropped, and the column names are returned to `target` and `user`."
   ]
  },
  {
   "cell_type": "code",
   "execution_count": 7,
   "metadata": {},
   "outputs": [],
   "source": [
    "def normalize_target(df):\n",
    "    return (\n",
    "        df.rename(columns={\"target_accel\": \"target\"})\n",
    "        .drop(columns=[\"target_gyro\"])\n",
    "    )"
   ]
  },
  {
   "cell_type": "code",
   "execution_count": 8,
   "metadata": {},
   "outputs": [],
   "source": [
    "def normalize_user(df):\n",
    "    return (\n",
    "        df.rename(columns={\"user_accel\": \"user\"})\n",
    "        .drop(columns=[\"user_gyro\"])\n",
    "    )"
   ]
  },
  {
   "cell_type": "markdown",
   "metadata": {},
   "source": [
    "# Apply Processing"
   ]
  },
  {
   "cell_type": "code",
   "execution_count": 9,
   "metadata": {},
   "outputs": [
    {
     "name": "stdout",
     "output_type": "stream",
     "text": [
      "CPU times: user 377 ms, sys: 172 ms, total: 550 ms\n",
      "Wall time: 551 ms\n"
     ]
    }
   ],
   "source": [
    "%%time \n",
    "df = (\n",
    "    df.pipe(normalize_target)\n",
    "    .pipe(normalize_user)\n",
    "    .sort_index(axis=\"columns\")\n",
    ")"
   ]
  },
  {
   "cell_type": "markdown",
   "metadata": {},
   "source": [
    "# Visualize"
   ]
  },
  {
   "cell_type": "code",
   "execution_count": 10,
   "metadata": {},
   "outputs": [
    {
     "data": {
      "text/plain": [
       "'total number of rows in the dataset 11056161'"
      ]
     },
     "execution_count": 10,
     "metadata": {},
     "output_type": "execute_result"
    }
   ],
   "source": [
    "f\"total number of rows in the dataset {len(df)}\""
   ]
  },
  {
   "cell_type": "markdown",
   "metadata": {},
   "source": [
    "---\n",
    "Random slice of the dataset"
   ]
  },
  {
   "cell_type": "code",
   "execution_count": 11,
   "metadata": {},
   "outputs": [
    {
     "data": {
      "text/html": [
       "<div>\n",
       "<style scoped>\n",
       "    .dataframe tbody tr th:only-of-type {\n",
       "        vertical-align: middle;\n",
       "    }\n",
       "\n",
       "    .dataframe tbody tr th {\n",
       "        vertical-align: top;\n",
       "    }\n",
       "\n",
       "    .dataframe thead th {\n",
       "        text-align: right;\n",
       "    }\n",
       "</style>\n",
       "<table border=\"1\" class=\"dataframe\">\n",
       "  <thead>\n",
       "    <tr style=\"text-align: right;\">\n",
       "      <th></th>\n",
       "      <th>target</th>\n",
       "      <th>user</th>\n",
       "      <th>x_accel</th>\n",
       "      <th>x_gyro</th>\n",
       "      <th>y_accel</th>\n",
       "      <th>y_gyro</th>\n",
       "      <th>z_accel</th>\n",
       "      <th>z_gyro</th>\n",
       "    </tr>\n",
       "    <tr>\n",
       "      <th>arrival_time</th>\n",
       "      <th></th>\n",
       "      <th></th>\n",
       "      <th></th>\n",
       "      <th></th>\n",
       "      <th></th>\n",
       "      <th></th>\n",
       "      <th></th>\n",
       "      <th></th>\n",
       "    </tr>\n",
       "  </thead>\n",
       "  <tbody>\n",
       "    <tr>\n",
       "      <th>1424782683861</th>\n",
       "      <td>stairsup</td>\n",
       "      <td>d</td>\n",
       "      <td>-2.836334</td>\n",
       "      <td>1.047287</td>\n",
       "      <td>0.767807</td>\n",
       "      <td>-0.104126</td>\n",
       "      <td>6.329834</td>\n",
       "      <td>-0.560272</td>\n",
       "    </tr>\n",
       "    <tr>\n",
       "      <th>1424696870404</th>\n",
       "      <td>stand</td>\n",
       "      <td>a</td>\n",
       "      <td>-6.146240</td>\n",
       "      <td>0.043066</td>\n",
       "      <td>0.317917</td>\n",
       "      <td>-0.019853</td>\n",
       "      <td>8.022278</td>\n",
       "      <td>-0.024740</td>\n",
       "    </tr>\n",
       "    <tr>\n",
       "      <th>1424779969856</th>\n",
       "      <td>walk</td>\n",
       "      <td>f</td>\n",
       "      <td>-2.039860</td>\n",
       "      <td>0.014420</td>\n",
       "      <td>-0.919373</td>\n",
       "      <td>0.041702</td>\n",
       "      <td>11.080365</td>\n",
       "      <td>-0.155975</td>\n",
       "    </tr>\n",
       "    <tr>\n",
       "      <th>1424787631963</th>\n",
       "      <td>sit</td>\n",
       "      <td>e</td>\n",
       "      <td>3.811569</td>\n",
       "      <td>-0.003738</td>\n",
       "      <td>0.134075</td>\n",
       "      <td>0.026596</td>\n",
       "      <td>8.992621</td>\n",
       "      <td>-0.008057</td>\n",
       "    </tr>\n",
       "    <tr>\n",
       "      <th>1424779510746</th>\n",
       "      <td>sit</td>\n",
       "      <td>f</td>\n",
       "      <td>7.817184</td>\n",
       "      <td>-0.006058</td>\n",
       "      <td>-0.658783</td>\n",
       "      <td>0.010437</td>\n",
       "      <td>6.079697</td>\n",
       "      <td>-0.000305</td>\n",
       "    </tr>\n",
       "    <tr>\n",
       "      <th>1424786004422</th>\n",
       "      <td>stairsdown</td>\n",
       "      <td>b</td>\n",
       "      <td>-3.369369</td>\n",
       "      <td>-0.021439</td>\n",
       "      <td>-0.101776</td>\n",
       "      <td>-1.067093</td>\n",
       "      <td>8.467209</td>\n",
       "      <td>0.579422</td>\n",
       "    </tr>\n",
       "    <tr>\n",
       "      <th>1424700083281</th>\n",
       "      <td>walk</td>\n",
       "      <td>h</td>\n",
       "      <td>-6.988724</td>\n",
       "      <td>-0.321077</td>\n",
       "      <td>1.879883</td>\n",
       "      <td>0.007807</td>\n",
       "      <td>13.371963</td>\n",
       "      <td>0.384755</td>\n",
       "    </tr>\n",
       "    <tr>\n",
       "      <th>1424698108828</th>\n",
       "      <td>stairsdown</td>\n",
       "      <td>a</td>\n",
       "      <td>-11.368607</td>\n",
       "      <td>-0.347900</td>\n",
       "      <td>4.935089</td>\n",
       "      <td>-0.198883</td>\n",
       "      <td>15.077499</td>\n",
       "      <td>-0.846252</td>\n",
       "    </tr>\n",
       "    <tr>\n",
       "      <th>1424697535194</th>\n",
       "      <td>walk</td>\n",
       "      <td>a</td>\n",
       "      <td>3.661932</td>\n",
       "      <td>0.512405</td>\n",
       "      <td>-1.019930</td>\n",
       "      <td>-0.087967</td>\n",
       "      <td>5.868188</td>\n",
       "      <td>-0.706604</td>\n",
       "    </tr>\n",
       "    <tr>\n",
       "      <th>1424778253473</th>\n",
       "      <td>bike</td>\n",
       "      <td>i</td>\n",
       "      <td>-1.817199</td>\n",
       "      <td>0.271835</td>\n",
       "      <td>-0.185551</td>\n",
       "      <td>0.091904</td>\n",
       "      <td>9.063251</td>\n",
       "      <td>0.038422</td>\n",
       "    </tr>\n",
       "  </tbody>\n",
       "</table>\n",
       "</div>"
      ],
      "text/plain": [
       "                   target user    x_accel    x_gyro   y_accel    y_gyro  \\\n",
       "arrival_time                                                              \n",
       "1424782683861    stairsup    d  -2.836334  1.047287  0.767807 -0.104126   \n",
       "1424696870404       stand    a  -6.146240  0.043066  0.317917 -0.019853   \n",
       "1424779969856        walk    f  -2.039860  0.014420 -0.919373  0.041702   \n",
       "1424787631963         sit    e   3.811569 -0.003738  0.134075  0.026596   \n",
       "1424779510746         sit    f   7.817184 -0.006058 -0.658783  0.010437   \n",
       "1424786004422  stairsdown    b  -3.369369 -0.021439 -0.101776 -1.067093   \n",
       "1424700083281        walk    h  -6.988724 -0.321077  1.879883  0.007807   \n",
       "1424698108828  stairsdown    a -11.368607 -0.347900  4.935089 -0.198883   \n",
       "1424697535194        walk    a   3.661932  0.512405 -1.019930 -0.087967   \n",
       "1424778253473        bike    i  -1.817199  0.271835 -0.185551  0.091904   \n",
       "\n",
       "                 z_accel    z_gyro  \n",
       "arrival_time                        \n",
       "1424782683861   6.329834 -0.560272  \n",
       "1424696870404   8.022278 -0.024740  \n",
       "1424779969856  11.080365 -0.155975  \n",
       "1424787631963   8.992621 -0.008057  \n",
       "1424779510746   6.079697 -0.000305  \n",
       "1424786004422   8.467209  0.579422  \n",
       "1424700083281  13.371963  0.384755  \n",
       "1424698108828  15.077499 -0.846252  \n",
       "1424697535194   5.868188 -0.706604  \n",
       "1424778253473   9.063251  0.038422  "
      ]
     },
     "execution_count": 11,
     "metadata": {},
     "output_type": "execute_result"
    }
   ],
   "source": [
    "df.sample(n=10)"
   ]
  },
  {
   "cell_type": "markdown",
   "metadata": {},
   "source": [
    "---\n",
    "Number of occurrences by activity categry"
   ]
  },
  {
   "cell_type": "code",
   "execution_count": 12,
   "metadata": {},
   "outputs": [
    {
     "data": {
      "text/plain": [
       "walk          2266727\n",
       "sit           2062641\n",
       "stand         1809463\n",
       "stairsup      1762269\n",
       "bike          1675293\n",
       "stairsdown    1479768\n",
       "Name: target, dtype: int64"
      ]
     },
     "execution_count": 12,
     "metadata": {},
     "output_type": "execute_result"
    }
   ],
   "source": [
    "df.target.value_counts()"
   ]
  },
  {
   "cell_type": "markdown",
   "metadata": {},
   "source": [
    "---\n",
    "Sensor readings per user"
   ]
  },
  {
   "cell_type": "code",
   "execution_count": 13,
   "metadata": {},
   "outputs": [
    {
     "data": {
      "image/png": "[encoded data removed]",
      "text/plain": [
       "<Figure size 432x288 with 1 Axes>"
      ]
     },
     "metadata": {
      "needs_background": "light"
     },
     "output_type": "display_data"
    }
   ],
   "source": [
    "df.user.value_counts().plot(kind=\"bar\");"
   ]
  },
  {
   "cell_type": "markdown",
   "metadata": {},
   "source": [
    "---\n",
    "Breakdown of the actions taken"
   ]
  },
  {
   "cell_type": "code",
   "execution_count": 14,
   "metadata": {},
   "outputs": [
    {
     "data": {
      "image/png": "[encoded data removed]",
      "text/plain": [
       "<Figure size 432x288 with 1 Axes>"
      ]
     },
     "metadata": {},
     "output_type": "display_data"
    }
   ],
   "source": [
    "df.target.value_counts().plot(kind=\"pie\");"
   ]
  },
  {
   "cell_type": "markdown",
   "metadata": {},
   "source": [
    "# Export Dataset"
   ]
  },
  {
   "cell_type": "code",
   "execution_count": 15,
   "metadata": {},
   "outputs": [
    {
     "name": "stdout",
     "output_type": "stream",
     "text": [
      "CPU times: user 2min 16s, sys: 1.65 s, total: 2min 17s\n",
      "Wall time: 2min 18s\n"
     ]
    }
   ],
   "source": [
    "%time df.to_csv(output_path)"
   ]
  }
 ],
 "metadata": {
  "kernelspec": {
   "display_name": "Python 3",
   "language": "python",
   "name": "python3"
  },
  "language_info": {
   "codemirror_mode": {
    "name": "ipython",
    "version": 3
   },
   "file_extension": ".py",
   "mimetype": "text/x-python",
   "name": "python",
   "nbconvert_exporter": "python",
   "pygments_lexer": "ipython3",
   "version": "3.7.6"
  }
 },
 "nbformat": 4,
 "nbformat_minor": 4
}
